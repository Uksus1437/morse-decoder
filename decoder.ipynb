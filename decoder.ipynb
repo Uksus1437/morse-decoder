{
 "cells": [
  {
   "cell_type": "code",
   "execution_count": 1,
   "id": "7229da15",
   "metadata": {},
   "outputs": [],
   "source": [
    "import pandas as pd\n",
    "import torch\n",
    "import torchaudio\n",
    "import torchaudio.transforms as T\n",
    "import torch.nn as nn\n",
    "from torch.utils.data import DataLoader\n",
    "import torch.optim as optim\n",
    "import os\n",
    "import matplotlib.pyplot as plt"
   ]
  },
  {
   "cell_type": "code",
   "execution_count": 2,
   "id": "a3ed8abe",
   "metadata": {},
   "outputs": [],
   "source": [
    "df = pd.read_csv('processed_train.csv', encoding='utf-8')"
   ]
  },
  {
   "cell_type": "code",
   "execution_count": 3,
   "id": "dd9f469a",
   "metadata": {},
   "outputs": [],
   "source": [
    "alphabet = sorted(set(\"\".join(df['label'])))\n",
    "char2idx = {ch: i + 1 for i, ch in enumerate(alphabet)}\n",
    "idx2char = {i: ch for ch, i in char2idx.items()}"
   ]
  },
  {
   "cell_type": "code",
   "execution_count": 4,
   "id": "5999d32d",
   "metadata": {},
   "outputs": [],
   "source": [
    "mel_spec = T.MelSpectrogram(sample_rate=8000, n_mels=40)"
   ]
  },
  {
   "cell_type": "code",
   "execution_count": 5,
   "id": "eceb284c",
   "metadata": {},
   "outputs": [],
   "source": [
    "spectrograms = []\n",
    "targets = []\n",
    "input_lengths = []\n",
    "target_lengths = []"
   ]
  },
  {
   "cell_type": "code",
   "execution_count": 6,
   "id": "a8f4e60b",
   "metadata": {},
   "outputs": [],
   "source": [
    "for i, row in df.iterrows():\n",
    "    waveform = torch.load(row['filepath'])\n",
    "    spec = mel_spec(waveform)\n",
    "    spec = spec.squeeze(0)\n",
    "    \n",
    "    spectrograms.append(spec)\n",
    "    input_lengths.append(spec.shape[1])\n",
    "\n",
    "    label = row['label']\n",
    "    encoded = torch.tensor([char2idx[c] for c in label], dtype=torch.long)\n",
    "    \n",
    "    targets.append(encoded)\n",
    "    target_lengths.append(len(encoded))"
   ]
  },
  {
   "cell_type": "code",
   "execution_count": 7,
   "id": "bd8193a3",
   "metadata": {},
   "outputs": [
    {
     "data": {
      "text/plain": [
       "torch.Size([40, 321])"
      ]
     },
     "execution_count": 7,
     "metadata": {},
     "output_type": "execute_result"
    }
   ],
   "source": [
    "spectrograms[0].shape"
   ]
  },
  {
   "cell_type": "code",
   "execution_count": 8,
   "id": "ba98af07",
   "metadata": {},
   "outputs": [],
   "source": [
    "torch.save({\n",
    "    'spectrograms': spectrograms,\n",
    "    'targets': targets,\n",
    "    'input_lengths': input_lengths,\n",
    "    'target_lengths': target_lengths,\n",
    "    'char2idx': char2idx,\n",
    "    'idx2char': idx2char\n",
    "}, 'prepared_data.pt')\n"
   ]
  },
  {
   "cell_type": "code",
   "execution_count": 53,
   "id": "bd470509",
   "metadata": {},
   "outputs": [],
   "source": [
    "data = torch.load('prepared_data.pt')"
   ]
  },
  {
   "cell_type": "code",
   "execution_count": 54,
   "id": "dc949d8c",
   "metadata": {},
   "outputs": [],
   "source": [
    "spectrograms = data['spectrograms']\n",
    "targets = data['targets']\n",
    "input_lengths = data['input_lengths']\n",
    "target_lengths = data['target_lengths']\n",
    "char2idx = data['char2idx']\n",
    "idx2char = data['idx2char']"
   ]
  },
  {
   "cell_type": "code",
   "execution_count": 4,
   "id": "61144f0a",
   "metadata": {},
   "outputs": [],
   "source": [
    "from torch.utils.data import Dataset\n",
    "\n",
    "class MorseDataset(Dataset):\n",
    "    def __init__(self, spectrograms, targets, input_lengths, target_lengths):\n",
    "        self.spectrograms = spectrograms\n",
    "        self.targets = targets\n",
    "        self.input_lengths = input_lengths\n",
    "        self.target_lengths = target_lengths\n",
    "\n",
    "    def __len__(self):\n",
    "        return len(self.spectrograms)\n",
    "\n",
    "    def __getitem__(self, idx):\n",
    "        return {\n",
    "            'spectrogram': self.spectrograms[idx],\n",
    "            'target': self.targets[idx],\n",
    "            'input_length': self.input_lengths[idx],\n",
    "            'target_length': self.target_lengths[idx]\n",
    "        }"
   ]
  },
  {
   "cell_type": "markdown",
   "id": "d0af29d5",
   "metadata": {},
   "source": [
    "## Определение модели"
   ]
  },
  {
   "cell_type": "code",
   "execution_count": 3,
   "id": "63f19f26",
   "metadata": {},
   "outputs": [],
   "source": [
    "class MorseModel(nn.Module):\n",
    "    def __init__(self, n_mels, n_classes):\n",
    "        super().__init__()\n",
    "\n",
    "        self.cnn = nn.Sequential(\n",
    "            nn.Conv2d(1, 32, kernel_size=3, padding=1),\n",
    "            nn.BatchNorm2d(32),\n",
    "            nn.ReLU(),\n",
    "            nn.MaxPool2d(kernel_size=(2, 2))\n",
    "        )\n",
    "        \n",
    "        self.lstm = nn.LSTM(\n",
    "            input_size=(n_mels // 2) * 32,\n",
    "            hidden_size=128,\n",
    "            num_layers=2,\n",
    "            bidirectional=True,\n",
    "            batch_first=True\n",
    "        )\n",
    "\n",
    "        self.fc = nn.Linear(128 * 2, n_classes + 1) \n",
    "\n",
    "    def forward(self, x):\n",
    "        x = self.cnn(x)  \n",
    "        b, c, h, t = x.size()\n",
    "\n",
    "        x = x.permute(0, 3, 1, 2).contiguous()\n",
    "        x = x.view(b, t, c * h)\n",
    "\n",
    "        x, _ = self.lstm(x)\n",
    "\n",
    "        x = self.fc(x)  \n",
    "        return x.permute(1, 0, 2)  "
   ]
  },
  {
   "cell_type": "code",
   "execution_count": null,
   "id": "84769e5a",
   "metadata": {},
   "outputs": [],
   "source": [
    "def collate_fn(batch):\n",
    "    max_spec_len = max(item['spectrogram'].shape[1] for item in batch)\n",
    "\n",
    "    specs = torch.stack([\n",
    "        torch.nn.functional.pad(item['spectrogram'], (0, max_spec_len - item['spectrogram'].shape[1]))\n",
    "        for item in batch\n",
    "    ])\n",
    "    specs = specs.unsqueeze(1) \n",
    "\n",
    "    targets = torch.cat([item['target'] for item in batch])\n",
    "\n",
    "    input_lengths = torch.tensor([item['input_length'] for item in batch], dtype=torch.long)\n",
    "    target_lengths = torch.tensor([item['target_length'] for item in batch], dtype=torch.long)\n",
    "\n",
    "    return specs, targets, input_lengths, target_lengths\n"
   ]
  },
  {
   "cell_type": "code",
   "execution_count": 12,
   "id": "97c46f9b",
   "metadata": {},
   "outputs": [],
   "source": [
    "csv_path = \"D:/vs_projects/Data/morse/test.csv\"\n",
    "pt_folder = \"D:/vs_projects/Data/morse/morse_wav\"\n",
    "\n",
    "\n",
    "test_df = pd.read_csv(csv_path)\n",
    "test_df = test_df.rename(columns={'id':'filename'})"
   ]
  },
  {
   "cell_type": "code",
   "execution_count": 6,
   "id": "c75c810a",
   "metadata": {},
   "outputs": [],
   "source": [
    "def decode_prediction(preds, idx2char):\n",
    "    preds = preds.permute(1, 0, 2)\n",
    "    pred_indices = preds.argmax(dim=-1).cpu().numpy()\n",
    "    results = []\n",
    "\n",
    "    for seq in pred_indices:\n",
    "        prev = -1\n",
    "        chars = []\n",
    "        for i in seq:\n",
    "            if i != prev and i != 0:\n",
    "                chars.append(idx2char.get(i, '?'))\n",
    "            prev = i\n",
    "        results.append(\"\".join(chars))\n",
    "\n",
    "    return results"
   ]
  },
  {
   "cell_type": "code",
   "execution_count": 16,
   "id": "ed3b6593",
   "metadata": {},
   "outputs": [],
   "source": [
    "mel = T.MelSpectrogram(sample_rate=8000, n_mels=40)"
   ]
  },
  {
   "cell_type": "markdown",
   "id": "832e96c5",
   "metadata": {},
   "source": [
    "## Функция для вычисления метрики"
   ]
  },
  {
   "cell_type": "code",
   "execution_count": 31,
   "id": "ecc98617",
   "metadata": {},
   "outputs": [],
   "source": [
    "import Levenshtein\n",
    "\n",
    "def evaluate_levenshtein(model, csv_path, pt_folder, idx2char, sample_rate=8000, n_mels=40, limit=None):\n",
    "    df = pd.read_csv(csv_path)\n",
    "\n",
    "    if limit is not None:\n",
    "        df = df.tail(limit)\n",
    "\n",
    "    mel = T.MelSpectrogram(sample_rate=sample_rate, n_mels=n_mels)\n",
    "    model.eval()\n",
    "    distances = []\n",
    "\n",
    "    with torch.no_grad():\n",
    "        for _, row in df.iterrows():\n",
    "            fname = row['id']\n",
    "            true_text = row['message']\n",
    "\n",
    "            pt_path = os.path.join(pt_folder, fname.replace(\".opus\", \".pt\"))\n",
    "            waveform = torch.load(pt_path)\n",
    "\n",
    "            if waveform.ndim == 3:\n",
    "                waveform = waveform.squeeze(0)\n",
    "\n",
    "            spec = mel(waveform)\n",
    "            spec = spec.squeeze(0).unsqueeze(0).unsqueeze(0)\n",
    "            out = model(spec) \n",
    "            pred_text = decode_prediction(out, idx2char)[0]\n",
    "\n",
    "            dist = Levenshtein.distance(pred_text, true_text)\n",
    "            distances.append(dist)\n",
    "\n",
    "    mean_distance = sum(distances) / len(distances)\n",
    "    return mean_distance"
   ]
  },
  {
   "cell_type": "code",
   "execution_count": null,
   "id": "f8af9bcf",
   "metadata": {},
   "outputs": [],
   "source": [
    "data = torch.load(\"prepared_data.pt\")\n",
    "\n",
    "dataset = MorseDataset(\n",
    "    data['spectrograms'],\n",
    "    data['targets'],\n",
    "    data['input_lengths'],\n",
    "    data['target_lengths']\n",
    ")\n",
    "\n",
    "loader = DataLoader(\n",
    "    dataset,\n",
    "    batch_size=8,\n",
    "    shuffle=True,\n",
    "    collate_fn=collate_fn\n",
    ")\n",
    "\n",
    "model = MorseModel(n_mels=40, n_classes=len(char2idx))"
   ]
  },
  {
   "cell_type": "markdown",
   "id": "f8a93aef",
   "metadata": {},
   "source": [
    "## Процесс обучения"
   ]
  },
  {
   "cell_type": "code",
   "execution_count": 36,
   "id": "06c6ddb3",
   "metadata": {},
   "outputs": [
    {
     "name": "stderr",
     "output_type": "stream",
     "text": [
      "c:\\Users\\maksim\\AppData\\Local\\Programs\\Python\\Python312\\Lib\\site-packages\\torch\\optim\\lr_scheduler.py:62: UserWarning: The verbose parameter is deprecated. Please use get_last_lr() to access the learning rate.\n",
      "  warnings.warn(\n"
     ]
    },
    {
     "name": "stdout",
     "output_type": "stream",
     "text": [
      "Epoch 101 | Loss: 1.62 | LR: 0.00100 | Levenshtein: 3.74 | Pred avg len: 7.60\n",
      "best model epoch101 (score=3.74)\n",
      "Epoch 102 | Loss: 1.61 | LR: 0.00100 | Levenshtein: 3.65 | Pred avg len: 7.60\n",
      "best model epoch102 (score=3.65)\n",
      "Epoch 103 | Loss: 1.61 | LR: 0.00100 | Levenshtein: 3.74 | Pred avg len: 7.70\n",
      "Epoch 104 | Loss: 1.60 | LR: 0.00100 | Levenshtein: 3.61 | Pred avg len: 7.80\n",
      "best model epoch104 (score=3.61)\n",
      "Epoch 105 | Loss: 1.59 | LR: 0.00100 | Levenshtein: 3.75 | Pred avg len: 7.90\n",
      "Epoch 106 | Loss: 1.59 | LR: 0.00100 | Levenshtein: 3.80 | Pred avg len: 7.60\n",
      "Epoch 107 | Loss: 1.58 | LR: 0.00100 | Levenshtein: 3.66 | Pred avg len: 7.60\n",
      "Epoch 108 | Loss: 1.57 | LR: 0.00100 | Levenshtein: 3.80 | Pred avg len: 7.70\n",
      "Epoch 109 | Loss: 1.57 | LR: 0.00100 | Levenshtein: 3.58 | Pred avg len: 7.30\n",
      "best model epoch109 (score=3.58)\n",
      "Epoch 110 | Loss: 1.56 | LR: 0.00100 | Levenshtein: 3.60 | Pred avg len: 7.50\n",
      "Epoch 111 | Loss: 1.56 | LR: 0.00100 | Levenshtein: 3.60 | Pred avg len: 7.90\n",
      "Epoch 112 | Loss: 1.55 | LR: 0.00100 | Levenshtein: 3.57 | Pred avg len: 7.70\n",
      "best model epoch112 (score=3.57)\n",
      "Epoch 113 | Loss: 1.55 | LR: 0.00100 | Levenshtein: 3.46 | Pred avg len: 7.60\n",
      "best model epoch113 (score=3.46)\n",
      "Epoch 114 | Loss: 1.54 | LR: 0.00100 | Levenshtein: 3.57 | Pred avg len: 7.60\n",
      "Epoch 115 | Loss: 1.53 | LR: 0.00100 | Levenshtein: 3.50 | Pred avg len: 7.80\n",
      "Epoch 116 | Loss: 1.53 | LR: 0.00100 | Levenshtein: 3.50 | Pred avg len: 7.50\n",
      "Epoch 117 | Loss: 1.52 | LR: 0.00100 | Levenshtein: 3.48 | Pred avg len: 7.60\n",
      "Epoch 118 | Loss: 1.52 | LR: 0.00100 | Levenshtein: 3.47 | Pred avg len: 7.80\n",
      "Epoch 119 | Loss: 1.51 | LR: 0.00100 | Levenshtein: 3.46 | Pred avg len: 8.00\n",
      "Epoch 120 | Loss: 1.50 | LR: 0.00100 | Levenshtein: 3.52 | Pred avg len: 7.80\n",
      "Epoch 121 | Loss: 1.50 | LR: 0.00100 | Levenshtein: 3.48 | Pred avg len: 7.40\n",
      "Epoch 122 | Loss: 1.49 | LR: 0.00100 | Levenshtein: 3.51 | Pred avg len: 8.00\n",
      "Epoch 123 | Loss: 1.50 | LR: 0.00100 | Levenshtein: 3.47 | Pred avg len: 7.60\n",
      "Epoch 124 | Loss: 1.49 | LR: 0.00100 | Levenshtein: 3.37 | Pred avg len: 7.60\n",
      "best model epoch124 (score=3.37)\n",
      "Epoch 125 | Loss: 1.48 | LR: 0.00100 | Levenshtein: 3.43 | Pred avg len: 8.00\n",
      "Epoch 126 | Loss: 1.48 | LR: 0.00100 | Levenshtein: 3.50 | Pred avg len: 7.90\n",
      "Epoch 127 | Loss: 1.47 | LR: 0.00100 | Levenshtein: 3.45 | Pred avg len: 8.10\n",
      "Epoch 128 | Loss: 1.47 | LR: 0.00100 | Levenshtein: 3.37 | Pred avg len: 7.90\n",
      "Epoch 129 | Loss: 1.47 | LR: 0.00100 | Levenshtein: 3.33 | Pred avg len: 7.60\n",
      "best model epoch129 (score=3.33)\n",
      "Epoch 130 | Loss: 1.46 | LR: 0.00100 | Levenshtein: 3.35 | Pred avg len: 7.70\n",
      "Epoch 131 | Loss: 1.45 | LR: 0.00100 | Levenshtein: 3.25 | Pred avg len: 8.10\n",
      "best model epoch131 (score=3.25)\n",
      "Epoch 132 | Loss: 1.45 | LR: 0.00100 | Levenshtein: 3.32 | Pred avg len: 8.00\n",
      "Epoch 133 | Loss: 1.45 | LR: 0.00100 | Levenshtein: 3.46 | Pred avg len: 8.10\n",
      "Epoch 134 | Loss: 1.44 | LR: 0.00100 | Levenshtein: 3.27 | Pred avg len: 8.10\n",
      "Epoch 135 | Loss: 1.43 | LR: 0.00100 | Levenshtein: 3.28 | Pred avg len: 7.70\n",
      "Epoch 136 | Loss: 1.43 | LR: 0.00100 | Levenshtein: 3.33 | Pred avg len: 7.40\n",
      "Epoch 137 | Loss: 1.43 | LR: 0.00100 | Levenshtein: 3.31 | Pred avg len: 7.50\n",
      "Epoch 138 | Loss: 1.42 | LR: 0.00100 | Levenshtein: 3.26 | Pred avg len: 7.70\n",
      "Epoch 139 | Loss: 1.42 | LR: 0.00100 | Levenshtein: 3.25 | Pred avg len: 7.90\n",
      "Epoch 140 | Loss: 1.41 | LR: 0.00100 | Levenshtein: 3.20 | Pred avg len: 8.30\n",
      "best model epoch140 (score=3.20)\n",
      "Epoch 141 | Loss: 1.41 | LR: 0.00100 | Levenshtein: 3.10 | Pred avg len: 7.70\n",
      "best model epoch141 (score=3.10)\n",
      "Epoch 142 | Loss: 1.41 | LR: 0.00100 | Levenshtein: 3.25 | Pred avg len: 7.70\n",
      "Epoch 143 | Loss: 1.40 | LR: 0.00100 | Levenshtein: 3.15 | Pred avg len: 7.50\n",
      "Epoch 144 | Loss: 1.40 | LR: 0.00100 | Levenshtein: 3.24 | Pred avg len: 7.90\n",
      "Epoch 145 | Loss: 1.40 | LR: 0.00100 | Levenshtein: 3.04 | Pred avg len: 8.00\n",
      "best model epoch145 (score=3.04)\n",
      "Epoch 146 | Loss: 1.39 | LR: 0.00100 | Levenshtein: 3.20 | Pred avg len: 7.40\n",
      "Epoch 147 | Loss: 1.38 | LR: 0.00100 | Levenshtein: 3.18 | Pred avg len: 7.90\n",
      "Epoch 148 | Loss: 1.38 | LR: 0.00100 | Levenshtein: 3.11 | Pred avg len: 7.50\n",
      "Epoch 149 | Loss: 1.38 | LR: 0.00100 | Levenshtein: 3.14 | Pred avg len: 8.00\n",
      "Epoch 150 | Loss: 1.38 | LR: 0.00100 | Levenshtein: 3.11 | Pred avg len: 7.80\n"
     ]
    }
   ],
   "source": [
    "from torch.optim.lr_scheduler import ReduceLROnPlateau\n",
    "from torch.nn.utils import clip_grad_norm_\n",
    "from collections import Counter\n",
    "\n",
    "optimizer = torch.optim.Adam(model.parameters(), lr=1e-3)\n",
    "scheduler = ReduceLROnPlateau(optimizer, mode='min', factor=0.5, patience=2, verbose=True)\n",
    "ctc_loss = nn.CTCLoss(blank=0)\n",
    "best_score = float(\"inf\")\n",
    "wait = 0\n",
    "patience = 15\n",
    "\n",
    "num_epochs = 100\n",
    "for epoch in range(101, 150+1):\n",
    "    model.train()\n",
    "    epoch_loss = 0\n",
    "\n",
    "    for specs, targets, input_lengths, target_lengths in loader:\n",
    "        input_lengths = input_lengths // 2\n",
    "        preds = model(specs)\n",
    "        loss = ctc_loss(preds, targets, input_lengths, target_lengths)\n",
    "\n",
    "        optimizer.zero_grad()\n",
    "        loss.backward()\n",
    "        clip_grad_norm_(model.parameters(), max_norm=5.0)\n",
    "        optimizer.step()\n",
    "\n",
    "        epoch_loss += loss.item()\n",
    "\n",
    "    avg_loss = epoch_loss / len(loader)\n",
    "    scheduler.step(avg_loss)\n",
    "    current_lr = optimizer.param_groups[0]['lr']\n",
    "\n",
    "    val_score = evaluate_levenshtein(\n",
    "        model=model,\n",
    "        csv_path=\"D:/vs_projects/Data/morse/train.csv\",\n",
    "        pt_folder=\"D:/vs_projects/Data/morse/morse_wav\",\n",
    "        idx2char=idx2char,\n",
    "        limit=300\n",
    "    )\n",
    "\n",
    "    sample_texts = []\n",
    "    model.eval()\n",
    "    with torch.no_grad():\n",
    "        for i in range(10):\n",
    "            waveform = torch.load(f\"D:/vs_projects/Data/morse/morse_wav/{29991 + i}.pt\")\n",
    "            if waveform.ndim == 3:\n",
    "                waveform = waveform.squeeze(0)\n",
    "            spec = mel(waveform)\n",
    "            spec = spec.squeeze(0).unsqueeze(0).unsqueeze(0)\n",
    "            out = model(spec)\n",
    "            pred = decode_prediction(out, idx2char)[0]\n",
    "            sample_texts.append(pred)\n",
    "\n",
    "    avg_pred_len = sum(len(p) for p in sample_texts) / len(sample_texts)\n",
    "    counter = Counter(\"\".join(sample_texts)).most_common(5)\n",
    "\n",
    "    print(f\"Epoch {epoch:02} | Loss: {avg_loss:.2f} | LR: {current_lr:.5f} | \"\n",
    "          f\"Levenshtein: {val_score:.2f} | Pred avg len: {avg_pred_len:.2f}\")\n",
    "    \n",
    "    if val_score < best_score - 0.01:\n",
    "        best_score = val_score\n",
    "        wait = 0\n",
    "        torch.save(model.state_dict(), \"morse_model_epoch{epoch}.pt\")\n",
    "        print(f\"best model epoch{epoch} (score={val_score:.2f})\")\n",
    "    else:\n",
    "        wait += 1\n",
    "        if wait >= patience:\n",
    "            print('Stopped')\n",
    "            break        \n"
   ]
  },
  {
   "cell_type": "code",
   "execution_count": 37,
   "id": "8b672b62",
   "metadata": {},
   "outputs": [],
   "source": [
    "torch.save(model.state_dict(), \"morse_model.pt\")"
   ]
  },
  {
   "cell_type": "markdown",
   "id": "a3f1184d",
   "metadata": {},
   "source": [
    "## Предсказание"
   ]
  },
  {
   "cell_type": "code",
   "execution_count": 38,
   "id": "ac74907e",
   "metadata": {},
   "outputs": [],
   "source": [
    "from torch.nn.functional import pad\n",
    "\n",
    "results = []\n",
    "\n",
    "model.eval()\n",
    "with torch.no_grad():\n",
    "    for fname in test_df['filename']:\n",
    "        pt_path = os.path.join(pt_folder, fname.replace(\".opus\", \".pt\"))\n",
    "\n",
    "        waveform = torch.load(pt_path)\n",
    "        if waveform.ndim == 3:\n",
    "            waveform = waveform.squeeze(0)\n",
    "\n",
    "        spec = mel(waveform)\n",
    "        spec = spec.squeeze(0).unsqueeze(0).unsqueeze(0) \n",
    "\n",
    "        pred = model(spec)\n",
    "        decoded = decode_prediction(pred, idx2char)[0]\n",
    "\n",
    "        results.append((fname, decoded))"
   ]
  },
  {
   "cell_type": "code",
   "execution_count": 39,
   "id": "72d1bc18",
   "metadata": {},
   "outputs": [],
   "source": [
    "submission_df = pd.DataFrame(results, columns=[\"id\", \"message\"])\n",
    "submission_df.to_csv(\"submission.csv\", index=False, encoding='utf-8')"
   ]
  },
  {
   "cell_type": "code",
   "execution_count": null,
   "id": "8844f362",
   "metadata": {},
   "outputs": [],
   "source": []
  }
 ],
 "metadata": {
  "kernelspec": {
   "display_name": "Python 3",
   "language": "python",
   "name": "python3"
  },
  "language_info": {
   "codemirror_mode": {
    "name": "ipython",
    "version": 3
   },
   "file_extension": ".py",
   "mimetype": "text/x-python",
   "name": "python",
   "nbconvert_exporter": "python",
   "pygments_lexer": "ipython3",
   "version": "3.12.4"
  }
 },
 "nbformat": 4,
 "nbformat_minor": 5
}
