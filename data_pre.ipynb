{
 "cells": [
  {
   "cell_type": "code",
   "execution_count": 1,
   "id": "dd2453b3",
   "metadata": {},
   "outputs": [
    {
     "name": "stderr",
     "output_type": "stream",
     "text": [
      "c:\\Users\\maksim\\AppData\\Local\\Programs\\Python\\Python312\\Lib\\site-packages\\pydub\\utils.py:170: RuntimeWarning: Couldn't find ffmpeg or avconv - defaulting to ffmpeg, but may not work\n",
      "  warn(\"Couldn't find ffmpeg or avconv - defaulting to ffmpeg, but may not work\", RuntimeWarning)\n"
     ]
    }
   ],
   "source": [
    "import pandas as pd\n",
    "import matplotlib.pyplot as plt\n",
    "import numpy as np\n",
    "import torch\n",
    "from pydub import AudioSegment\n",
    "import torchaudio\n",
    "import os"
   ]
  },
  {
   "cell_type": "code",
   "execution_count": 2,
   "id": "0841f5e8",
   "metadata": {},
   "outputs": [],
   "source": [
    "opus_dir = 'D:/vs_projects/Data/morse/morse_dataset'\n",
    "output_dir = 'D:/vs_projects/Data/morse/morse_wav'\n",
    "target_sr = 8000\n",
    "\n",
    "audio_tensors = []"
   ]
  },
  {
   "cell_type": "code",
   "execution_count": 3,
   "id": "3ffbd8ce",
   "metadata": {},
   "outputs": [],
   "source": [
    "for filename in os.listdir(opus_dir):\n",
    "    if filename.endswith('.opus'):\n",
    "        file_path = os.path.join(opus_dir, filename)\n",
    "        \n",
    "        waveform, sample_rate = torchaudio.load(file_path, format='opus')\n",
    "\n",
    "        if sample_rate != target_sr:\n",
    "            resampler = torchaudio.transforms.Resample(orig_freq=sample_rate,\n",
    "                                                       new_freq=target_sr)\n",
    "            waveform = resampler(waveform)\n",
    "\n",
    "        save_path = os.path.join(output_dir, filename.replace('.opus', '.pt'))\n",
    "        torch.save(waveform, save_path)\n"
   ]
  },
  {
   "cell_type": "code",
   "execution_count": 4,
   "id": "9091facb",
   "metadata": {},
   "outputs": [],
   "source": [
    "labels_df = pd.read_csv('D:/vs_projects/Data/morse/train.csv')"
   ]
  },
  {
   "cell_type": "code",
   "execution_count": 5,
   "id": "46ddc0ed",
   "metadata": {},
   "outputs": [
    {
     "data": {
      "application/vnd.microsoft.datawrangler.viewer.v0+json": {
       "columns": [
        {
         "name": "index",
         "rawType": "int64",
         "type": "integer"
        },
        {
         "name": "id",
         "rawType": "object",
         "type": "string"
        },
        {
         "name": "message",
         "rawType": "object",
         "type": "string"
        }
       ],
       "conversionMethod": "pd.DataFrame",
       "ref": "461a12c7-1da2-4a27-aca6-cb6590bc5b17",
       "rows": [
        [
         "0",
         "1.opus",
         "03ЩУЫЛПИГХ"
        ],
        [
         "1",
         "2.opus",
         "ЪЛТ0ДС6А3Г"
        ],
        [
         "2",
         "3.opus",
         "5ЭКЫБЗХЯН"
        ],
        [
         "3",
         "4.opus",
         "ЖЫЦОИ68КФ"
        ],
        [
         "4",
         "5.opus",
         "32Ю7МЫ ЗЛ"
        ]
       ],
       "shape": {
        "columns": 2,
        "rows": 5
       }
      },
      "text/html": [
       "<div>\n",
       "<style scoped>\n",
       "    .dataframe tbody tr th:only-of-type {\n",
       "        vertical-align: middle;\n",
       "    }\n",
       "\n",
       "    .dataframe tbody tr th {\n",
       "        vertical-align: top;\n",
       "    }\n",
       "\n",
       "    .dataframe thead th {\n",
       "        text-align: right;\n",
       "    }\n",
       "</style>\n",
       "<table border=\"1\" class=\"dataframe\">\n",
       "  <thead>\n",
       "    <tr style=\"text-align: right;\">\n",
       "      <th></th>\n",
       "      <th>id</th>\n",
       "      <th>message</th>\n",
       "    </tr>\n",
       "  </thead>\n",
       "  <tbody>\n",
       "    <tr>\n",
       "      <th>0</th>\n",
       "      <td>1.opus</td>\n",
       "      <td>03ЩУЫЛПИГХ</td>\n",
       "    </tr>\n",
       "    <tr>\n",
       "      <th>1</th>\n",
       "      <td>2.opus</td>\n",
       "      <td>ЪЛТ0ДС6А3Г</td>\n",
       "    </tr>\n",
       "    <tr>\n",
       "      <th>2</th>\n",
       "      <td>3.opus</td>\n",
       "      <td>5ЭКЫБЗХЯН</td>\n",
       "    </tr>\n",
       "    <tr>\n",
       "      <th>3</th>\n",
       "      <td>4.opus</td>\n",
       "      <td>ЖЫЦОИ68КФ</td>\n",
       "    </tr>\n",
       "    <tr>\n",
       "      <th>4</th>\n",
       "      <td>5.opus</td>\n",
       "      <td>32Ю7МЫ ЗЛ</td>\n",
       "    </tr>\n",
       "  </tbody>\n",
       "</table>\n",
       "</div>"
      ],
      "text/plain": [
       "       id     message\n",
       "0  1.opus  03ЩУЫЛПИГХ\n",
       "1  2.opus  ЪЛТ0ДС6А3Г\n",
       "2  3.opus   5ЭКЫБЗХЯН\n",
       "3  4.opus   ЖЫЦОИ68КФ\n",
       "4  5.opus   32Ю7МЫ ЗЛ"
      ]
     },
     "execution_count": 5,
     "metadata": {},
     "output_type": "execute_result"
    }
   ],
   "source": [
    "labels_df.head()"
   ]
  },
  {
   "cell_type": "code",
   "execution_count": 6,
   "id": "09f694ac",
   "metadata": {},
   "outputs": [],
   "source": [
    "data = []\n",
    "for idx, row in labels_df.iterrows():\n",
    "    pt_filename = row['id'].replace('.opus', '.pt')\n",
    "    pt_path = os.path.join(output_dir, pt_filename)\n",
    "\n",
    "    label = row['message']\n",
    "    data.append((pt_path, label))"
   ]
  },
  {
   "cell_type": "code",
   "execution_count": 7,
   "id": "14b1eea3",
   "metadata": {},
   "outputs": [],
   "source": [
    "df = pd.DataFrame(data, columns=['filepath', 'label'])"
   ]
  },
  {
   "cell_type": "code",
   "execution_count": 9,
   "id": "88fc0ac7",
   "metadata": {},
   "outputs": [],
   "source": [
    "df.to_csv('processed_train.csv', index=False, encoding='utf-8')"
   ]
  },
  {
   "cell_type": "code",
   "execution_count": null,
   "id": "7d56927b",
   "metadata": {},
   "outputs": [],
   "source": []
  }
 ],
 "metadata": {
  "kernelspec": {
   "display_name": "Python 3",
   "language": "python",
   "name": "python3"
  },
  "language_info": {
   "codemirror_mode": {
    "name": "ipython",
    "version": 3
   },
   "file_extension": ".py",
   "mimetype": "text/x-python",
   "name": "python",
   "nbconvert_exporter": "python",
   "pygments_lexer": "ipython3",
   "version": "3.12.4"
  }
 },
 "nbformat": 4,
 "nbformat_minor": 5
}
